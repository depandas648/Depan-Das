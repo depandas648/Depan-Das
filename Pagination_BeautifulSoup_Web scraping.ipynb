{
 "cells": [
  {
   "cell_type": "code",
   "execution_count": 1,
   "id": "ff34ad28-f70b-4dc7-9037-1ccfa3ccade9",
   "metadata": {},
   "outputs": [
    {
     "name": "stdout",
     "output_type": "stream",
     "text": [
      "Scraping: https://quotes.toscrape.com\n",
      "Scraping: https://quotes.toscrape.com/page/2/\n",
      "Scraping: https://quotes.toscrape.com/page/3/\n",
      "Scraping: https://quotes.toscrape.com/page/4/\n",
      "Scraping: https://quotes.toscrape.com/page/5/\n",
      "Scraping: https://quotes.toscrape.com/page/6/\n",
      "Scraping: https://quotes.toscrape.com/page/7/\n",
      "Scraping: https://quotes.toscrape.com/page/8/\n",
      "Scraping: https://quotes.toscrape.com/page/9/\n",
      "Scraping: https://quotes.toscrape.com/page/10/\n",
      "Scraped 100 quotes across all pages!\n"
     ]
    }
   ],
   "source": [
    "import requests\n",
    "from bs4 import BeautifulSoup\n",
    "import csv\n",
    "import time\n",
    "\n",
    "headers = {\n",
    "    \"User-Agent\": \"Mozilla/5.0 (Windows NT 10.0; Win64; x64) \"\n",
    "                  \"AppleWebKit/537.36 (KHTML, like Gecko) \"\n",
    "                  \"Chrome/114.0.0.0 Safari/537.36\"\n",
    "}\n",
    "\n",
    "base_url = \"https://quotes.toscrape.com\"\n",
    "url = base_url  # start page\n",
    "\n",
    "all_data = []\n",
    "\n",
    "while url:\n",
    "    print(f\"Scraping: {url}\")\n",
    "    response = requests.get(url, headers=headers)\n",
    "    if response.status_code != 200:\n",
    "        print(f\"Failed to retrieve {url}\")\n",
    "        break\n",
    "    \n",
    "    soup = BeautifulSoup(response.text, \"html.parser\")\n",
    "    \n",
    "    # Extract quotes & authors\n",
    "    quotes = soup.find_all(\"div\", class_=\"quote\")\n",
    "    for quote in quotes:\n",
    "        text = quote.find(\"span\", class_=\"text\").get_text(strip=True)\n",
    "        author = quote.find(\"small\", class_=\"author\").get_text(strip=True)\n",
    "        all_data.append([text, author])\n",
    "    \n",
    "    # Find next page link\n",
    "    next_btn = soup.find(\"li\", class_=\"next\")\n",
    "    if next_btn and next_btn.a:\n",
    "        next_page = next_btn.a['href']\n",
    "        url = base_url + next_page\n",
    "    else:\n",
    "        url = None  # no more pages\n",
    "    \n",
    "    time.sleep(2)  # polite delay\n",
    "\n",
    "# Save all data to CSV\n",
    "with open(\"all_quotes.csv\", \"w\", newline=\"\", encoding=\"utf-8\") as f:\n",
    "    writer = csv.writer(f)\n",
    "    writer.writerow([\"Quote\", \"Author\"])\n",
    "    writer.writerows(all_data)\n",
    "\n",
    "print(f\"Scraped {len(all_data)} quotes across all pages!\")\n"
   ]
  },
  {
   "cell_type": "code",
   "execution_count": null,
   "id": "9e73715e-9938-4bc9-b753-469cde9e22ae",
   "metadata": {},
   "outputs": [],
   "source": []
  }
 ],
 "metadata": {
  "kernelspec": {
   "display_name": "Python 3 (ipykernel)",
   "language": "python",
   "name": "python3"
  },
  "language_info": {
   "codemirror_mode": {
    "name": "ipython",
    "version": 3
   },
   "file_extension": ".py",
   "mimetype": "text/x-python",
   "name": "python",
   "nbconvert_exporter": "python",
   "pygments_lexer": "ipython3",
   "version": "3.13.3"
  }
 },
 "nbformat": 4,
 "nbformat_minor": 5
}
