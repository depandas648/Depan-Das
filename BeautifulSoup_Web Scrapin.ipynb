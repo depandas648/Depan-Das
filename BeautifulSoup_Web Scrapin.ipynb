{
 "cells": [
  {
   "cell_type": "code",
   "execution_count": 1,
   "id": "e86fa7a4-f2ba-4c6c-a941-bc6027ebe62d",
   "metadata": {},
   "outputs": [
    {
     "name": "stdout",
     "output_type": "stream",
     "text": [
      "Example Domain\n"
     ]
    }
   ],
   "source": [
    "import requests\n",
    "from bs4 import BeautifulSoup\n",
    "\n",
    "# Step 1: Fetch the web page\n",
    "url = \"https://example.com\"\n",
    "response = requests.get(url)\n",
    "html_content = response.text\n",
    "\n",
    "# Step 2: Parse with BeautifulSoup\n",
    "soup = BeautifulSoup(html_content, \"html.parser\")\n",
    "\n",
    "# Step 3: Extract data\n",
    "# Example: Get all headings (h1 tags)\n",
    "headings = soup.find_all('h1')\n",
    "for h in headings:\n",
    "    print(h.text.strip())\n"
   ]
  },
  {
   "cell_type": "code",
   "execution_count": 2,
   "id": "40427fc7-1844-49f5-8048-c2ebaf1ef0af",
   "metadata": {},
   "outputs": [
    {
     "name": "stdout",
     "output_type": "stream",
     "text": [
      "Scraped and saved 10 quotes.\n"
     ]
    }
   ],
   "source": [
    "import requests\n",
    "from bs4 import BeautifulSoup\n",
    "import time\n",
    "import csv\n",
    "\n",
    "# Step 0: Setup headers to mimic a browser (avoid blocking)\n",
    "headers = {\n",
    "    \"User-Agent\": \"Mozilla/5.0 (Windows NT 10.0; Win64; x64) \"\n",
    "                  \"AppleWebKit/537.36 (KHTML, like Gecko) \"\n",
    "                  \"Chrome/114.0.0.0 Safari/537.36\"\n",
    "}\n",
    "\n",
    "# Step 1: URL to scrape\n",
    "url = \"https://quotes.toscrape.com/\"  # Sample site for practicing scraping\n",
    "\n",
    "# Step 2: Send GET request\n",
    "response = requests.get(url, headers=headers)\n",
    "\n",
    "if response.status_code == 200:\n",
    "    html_content = response.text\n",
    "    \n",
    "    # Step 3: Parse HTML with BeautifulSoup\n",
    "    soup = BeautifulSoup(html_content, \"html.parser\")\n",
    "    \n",
    "    # Step 4: Extract data - all quotes and authors\n",
    "    quotes = soup.find_all(\"div\", class_=\"quote\")\n",
    "    \n",
    "    data = []\n",
    "    for quote in quotes:\n",
    "        text = quote.find(\"span\", class_=\"text\").get_text(strip=True)\n",
    "        author = quote.find(\"small\", class_=\"author\").get_text(strip=True)\n",
    "        data.append([text, author])\n",
    "    \n",
    "    # Step 5: Save extracted data to CSV\n",
    "    with open(\"quotes.csv\", \"w\", newline=\"\", encoding=\"utf-8\") as file:\n",
    "        writer = csv.writer(file)\n",
    "        writer.writerow([\"Quote\", \"Author\"])\n",
    "        writer.writerows(data)\n",
    "    \n",
    "    print(f\"Scraped and saved {len(data)} quotes.\")\n",
    "else:\n",
    "    print(f\"Failed to retrieve page: Status code {response.status_code}\")\n",
    "\n",
    "# Step 6: Polite scraping - wait before next request (if looping)\n",
    "time.sleep(2)\n"
   ]
  },
  {
   "cell_type": "code",
   "execution_count": null,
   "id": "f2bd113c-4ad4-4286-8fb1-b37d46eef6aa",
   "metadata": {},
   "outputs": [],
   "source": []
  }
 ],
 "metadata": {
  "kernelspec": {
   "display_name": "Python 3 (ipykernel)",
   "language": "python",
   "name": "python3"
  },
  "language_info": {
   "codemirror_mode": {
    "name": "ipython",
    "version": 3
   },
   "file_extension": ".py",
   "mimetype": "text/x-python",
   "name": "python",
   "nbconvert_exporter": "python",
   "pygments_lexer": "ipython3",
   "version": "3.13.3"
  }
 },
 "nbformat": 4,
 "nbformat_minor": 5
}
